{
 "cells": [
  {
   "cell_type": "code",
   "execution_count": 14,
   "id": "9eb42583",
   "metadata": {},
   "outputs": [],
   "source": [
    "import numpy as np\n",
    "import matplotlib.pyplot as plt\n",
    "import pandas as pd\n",
    "import seaborn as sns\n",
    "from scipy import stats \n",
    "from statsmodels.sandbox.stats.runs import runstest_1samp # para la prueba Runs \n",
    "from statsmodels.formula.api import ols #modelo lineal del ANOVA\n",
    "import statsmodels.api as sm \n",
    "from tabulate import tabulate\n",
    "from statsmodels.stats.multicomp import pairwise_tukeyhsd\n",
    "from scipy.stats import ttest_ind #prueba t para dos muestras independientes "
   ]
  },
  {
   "cell_type": "code",
   "execution_count": 15,
   "id": "26d4d34b",
   "metadata": {},
   "outputs": [],
   "source": [
    "df = pd.read_excel('res max.xlsx')"
   ]
  },
  {
   "cell_type": "markdown",
   "id": "deec38be",
   "metadata": {},
   "source": [
    "Se definen las funciones necesarias para las pruebas"
   ]
  },
  {
   "cell_type": "code",
   "execution_count": 29,
   "id": "181f95ec",
   "metadata": {},
   "outputs": [],
   "source": [
    "def test_normalitySW(data, variable): # Prueba de Normalizas Shapiro-Wilks \n",
    "    \"\"\"\n",
    "    data: arreglo de datos a evaluar la normalidad\n",
    "    variable: string con el nombre de la variable \n",
    "    \"\"\"\n",
    "    print(f\"\\n Análisis de normalidad por Shapiro-Wilk para '{variable}'\")\n",
    "    # Shapiro-Wilk test\n",
    "    shapiro_stat, shapiro_p = stats.shapiro(data)\n",
    "    print(f\"Estadístico = {shapiro_stat:.4f}, p-valor = {shapiro_p:.4f}\")\n",
    "\n",
    "def test_homogeneityL(var1, var2, name1, name2): # Prueba de levene\n",
    "    \"\"\"\n",
    "    var1 y var2: variables a las que se corroborará homocedasticidad \n",
    "    name1 y name2: strings con el nnombre de las variables\n",
    "    \"\"\"\n",
    "    print(f\"\\n Análisis de homocedasticidad entre '{name1}' y '{name2}'\")\n",
    "\n",
    "    # Prueba de Levene (no asume normalidad)\n",
    "    levene_stat, levene_p = stats.levene(var1, var2)\n",
    "    print(f\"Levene test: Estadístico = {levene_stat:.4f}, p-valor = {levene_p:.4f}\")\n",
    "\n",
    "def t_test_two_sample(datos1,datos2):#prubea T para dos muestras\n",
    "    \"\"\"\n",
    "    datos1: datos de la primera muestra \n",
    "    datos2: datos de la segunda muestra\n",
    "    \"\"\"\n",
    "    \n",
    "    t_stat, p_value = ttest_ind(datos1, datos2)\n",
    "    print(f\"Prueba t para dos muestras, valor p: {p_value:.4f}\")\n",
    "\n",
    "def kruskal_W(df,Respuesta,Factor):\n",
    "    \"\"\"\n",
    "    \n",
    "    Parameters\n",
    "    ----------\n",
    "    df : Data_Frame\n",
    "        DESCRIPTION. estructura con los datos del experimento\n",
    "    Respuesta : String\n",
    "        DESCRIPTION. nombre de la variable respuesta, key del dataframe\n",
    "    Factor : String\n",
    "        DESCRIPTION. nombre del factor, key del dataframe\n",
    "\n",
    "    Returns\n",
    "    -------\n",
    "    None.\n",
    "\n",
    "    \"\"\"\n",
    "    grupos_B = [df[Respuesta][df[Factor] == nivel] for nivel in df[Factor].unique()]\n",
    "    stat_B, p_B = stats.kruskal(*grupos_B)\n",
    "    print(f\"Kruskal-Wallis para {Factor}: H = {stat_B:.4f}, p = {p_B:.4f}\")\n",
    "\n",
    "def t_test_one(data,mu,variable): #Prueba T para una muestra\n",
    "    \"\"\"\n",
    "    data: arreglo de datos a comparar\n",
    "    mu: media poblacional o valor de referencia \n",
    "    variable: string con el nombre de la variable que se está comparando\n",
    "    \"\"\"\n",
    "    print(f\"Prueba T para una sola muestra para {variable}\")\n",
    "    t_stat, p_value = stats.ttest_1samp(data, mu)\n",
    "    print(f\"Estadístico = {t_stat:.4f}, valor_p = {p_value:.4f}\")\n",
    "def random_test(residuos):\n",
    "    \"\"\"\n",
    "    Parameters\n",
    "    ----------\n",
    "    residuos : Array\n",
    "        DESCRIPTION: Residuos del ANOVA \n",
    "\n",
    "    Returns\n",
    "    -------\n",
    "    None.\n",
    "\n",
    "    \"\"\"\n",
    "    _, p_runs = runstest_1samp(residuos, correction=True)\n",
    "\n",
    "    print(f\"Prueba de Runs: p-valor={p_runs}\")\n",
    "def tukey(respuesta,factor, alfa,n_factor):\n",
    "    \"\"\"\n",
    "\n",
    "    Parameters\n",
    "    ----------\n",
    "    respuesta : Array\n",
    "        DESCRIPTION. Array con los datos de la variable respuesta\n",
    "    factor : Array\n",
    "        DESCRIPTION.Array con los niveles del factor \n",
    "    alfa : Float\n",
    "        DESCRIPTION. Valor alfa de comparación \n",
    "    n_factor : String\n",
    "        DESCRIPTION. Nombre del factor\n",
    "\n",
    "    Returns\n",
    "    -------\n",
    "    None.\n",
    "\n",
    "    \"\"\"\n",
    "    \n",
    "    tukey = pairwise_tukeyhsd(respuesta, factor, alpha=alfa)\n",
    "    print(f\"Prueba Tukey para el factor {n_factor}\")\n",
    "    print(tukey)\n",
    "    \n",
    "def kruskal_W(df,Respuesta,Factor):\n",
    "    \"\"\"\n",
    "    \n",
    "    Parameters\n",
    "    ----------\n",
    "    df : Data_Frame\n",
    "        DESCRIPTION. estructura con los datos del experimento\n",
    "    Respuesta : String\n",
    "        DESCRIPTION. nombre de la variable respuesta, key del dataframe\n",
    "    Factor : String\n",
    "        DESCRIPTION. nombre del factor, key del dataframe\n",
    "\n",
    "    Returns\n",
    "    -------\n",
    "    None.\n",
    "\n",
    "    \"\"\"\n",
    "    grupos_B = [df[Respuesta][df[Factor] == nivel] for nivel in df[Factor].unique()]\n",
    "    stat_B, p_B = stats.kruskal(*grupos_B)\n",
    "    print(f\"Kruskal-Wallis para {Factor}: H = {stat_B:.4f}, p = {p_B:.4f}\")\n",
    "    \n",
    "    \n",
    "def kruskal_interaccion(df,Respuesta,Factor1,Factor2):\n",
    "    \"\"\"\n",
    "    \n",
    "\n",
    "    Parameters\n",
    "    ----------\n",
    "    df : Data_Frame\n",
    "        DESCRIPTION. estructura con los datos del experimento\n",
    "    Respuesta : String\n",
    "        DESCRIPTION. nombre de la variable respuesta, key del dataframe\n",
    "    Factor1 : String\n",
    "        DESCRIPTION. nombre del factor1, key del dataframe\n",
    "    Factor2 : String\n",
    "        DESCRIPTION.nombre del factor12, key del dataframe\n",
    "\n",
    "    Returns\n",
    "    -------\n",
    "    None.\n",
    "\n",
    "    \"\"\"\n",
    "    \n",
    "    df['interaccion'] = df[Factor1].astype(str) + \"_\" + df[Factor2].astype(str) # se genera una columana con las combinaciones entre factores\n",
    "\n",
    "    grupos_interaccion = [df[Respuesta][df['interaccion'] == nivel] for nivel in df['interaccion'].unique()]\n",
    "    stat_int, p_int = stats.kruskal(*grupos_interaccion)\n",
    "    print(f\"Kruskal-Wallis para la interacción {Factor1}x{Factor2} p = {p_int:.4f}\")\n",
    "    "
   ]
  },
  {
   "cell_type": "markdown",
   "id": "6ba01da7",
   "metadata": {},
   "source": [
    "<h3>Punto 1<h3>"
   ]
  },
  {
   "cell_type": "code",
   "execution_count": 17,
   "id": "517550ac",
   "metadata": {},
   "outputs": [
    {
     "name": "stdout",
     "output_type": "stream",
     "text": [
      "\n",
      " Análisis de normalidad por Shapiro-Wilk para 'Resistencia'\n",
      "Estadístico = 0.9595, p-valor = 0.1165\n"
     ]
    }
   ],
   "source": [
    "test_normalitySW(df['Resistencia'], 'Resistencia')"
   ]
  },
  {
   "cell_type": "markdown",
   "id": "6e8aeb76",
   "metadata": {},
   "source": [
    "Para el test de normalidad, se obtiene un valor de p<0.005 en todos los casos, por tanto, se acepta H1. Donde se comprueba la normalidad de los datos de resistencia. "
   ]
  },
  {
   "cell_type": "markdown",
   "id": "bc359268",
   "metadata": {},
   "source": [
    "<h3>Punto 2<h3> modelo fijos"
   ]
  },
  {
   "cell_type": "code",
   "execution_count": 18,
   "id": "6da1de52",
   "metadata": {},
   "outputs": [
    {
     "name": "stdout",
     "output_type": "stream",
     "text": [
      "Levene test: p-valor = 0.7435\n"
     ]
    }
   ],
   "source": [
    "nivel1=df[df['PVA']==10]['Resistencia']\n",
    "nivel2=df[df['PVA']==12.50]['Resistencia']\n",
    "nivel3=df[df['PVA']==15]['Resistencia']\n",
    "_, levene_p = stats.levene(nivel1,nivel2,nivel3)\n",
    "\n",
    "print(f\"Levene test: p-valor = {levene_p:.4f}\")"
   ]
  },
  {
   "cell_type": "markdown",
   "id": "ab2d8903",
   "metadata": {},
   "source": [
    "Para el valor p de la prueba de Levene como p>0.05 se acepta H0. Lo que significa que todas las varianzas son iguales y hay homocedasticidad. \n",
    "revisar ---> No hay evidencia significativa para rechazar H0; por lo qu se asume que las varianzas son iguales entre los grupos."
   ]
  },
  {
   "cell_type": "code",
   "execution_count": 19,
   "id": "8abac9a3",
   "metadata": {},
   "outputs": [
    {
     "name": "stdout",
     "output_type": "stream",
     "text": [
      "Levene test: p-valor = 0.0607\n"
     ]
    }
   ],
   "source": [
    "nivel4=df[df['CICLOS']==7]['Resistencia']\n",
    "nivel5=df[df['CICLOS']==11]['Resistencia']\n",
    "nivel6=df[df['CICLOS']==15]['Resistencia']\n",
    "_, levene_p = stats.levene(nivel4,nivel5,nivel6)\n",
    "\n",
    "print(f\"Levene test: p-valor = {levene_p:.4f}\")"
   ]
  },
  {
   "cell_type": "markdown",
   "id": "820a001a",
   "metadata": {},
   "source": [
    "Para el valor p de la prueba de Levene como p>0.05 se acepta H0. Lo que significa que todas las varianzas son iguales y hay homocedasticidad. "
   ]
  },
  {
   "cell_type": "markdown",
   "id": "a59a25e2",
   "metadata": {},
   "source": [
    "Los datos experimentales son independientes, por lo tanto, no se requiere una prueba de independencia. Esta misma se da en el experimento."
   ]
  },
  {
   "cell_type": "code",
   "execution_count": 20,
   "id": "d36b7d6e",
   "metadata": {},
   "outputs": [
    {
     "name": "stdout",
     "output_type": "stream",
     "text": [
      "┏━━━━━━━━━━━━━━━━━━┳━━━━━━━━━━┳━━━━━━┳━━━━━━━━━━━┳━━━━━━━━━━━━━━━┓\n",
      "┃                  ┃   sum_sq ┃   df ┃         F ┃        PR(>F) ┃\n",
      "┣━━━━━━━━━━━━━━━━━━╋━━━━━━━━━━╋━━━━━━╋━━━━━━━━━━━╋━━━━━━━━━━━━━━━┫\n",
      "┃ Intercept        ┃ 146604   ┃    1 ┃  51.185   ┃   2.06158e-08 ┃\n",
      "┣━━━━━━━━━━━━━━━━━━╋━━━━━━━━━━╋━━━━━━╋━━━━━━━━━━━╋━━━━━━━━━━━━━━━┫\n",
      "┃ C(PVA)           ┃  57215.5 ┃    2 ┃   9.98802 ┃   0.000354328 ┃\n",
      "┣━━━━━━━━━━━━━━━━━━╋━━━━━━━━━━╋━━━━━━╋━━━━━━━━━━━╋━━━━━━━━━━━━━━━┫\n",
      "┃ C(CICLOS)        ┃  14635.8 ┃    2 ┃   2.55495 ┃   0.0917087   ┃\n",
      "┣━━━━━━━━━━━━━━━━━━╋━━━━━━━━━━╋━━━━━━╋━━━━━━━━━━━╋━━━━━━━━━━━━━━━┫\n",
      "┃ C(PVA):C(CICLOS) ┃  40009.1 ┃    4 ┃   3.49216 ┃   0.0164945   ┃\n",
      "┣━━━━━━━━━━━━━━━━━━╋━━━━━━━━━━╋━━━━━━╋━━━━━━━━━━━╋━━━━━━━━━━━━━━━┫\n",
      "┃ Residual         ┃ 103111   ┃   36 ┃ nan       ┃ nan           ┃\n",
      "┗━━━━━━━━━━━━━━━━━━┻━━━━━━━━━━┻━━━━━━┻━━━━━━━━━━━┻━━━━━━━━━━━━━━━┛\n"
     ]
    }
   ],
   "source": [
    "modelo = ols('Resistencia ~ C(PVA)*C(CICLOS)', data=df).fit()\n",
    "anova_table = sm.stats.anova_lm(modelo, typ=3)\n",
    "print(tabulate(anova_table,headers='keys',tablefmt='heavy_grid'))"
   ]
  },
  {
   "cell_type": "markdown",
   "id": "c6515272",
   "metadata": {},
   "source": [
    "La variable ciclos tiene un efecto no significativo debido al resultado de p en la tabal ANOVA. Sin embargo, no es posible retirar los ciclos debido a que la combinacion entre la concetracion de PVA y ciclos si tiene un efecto significativo dado en la tabla ANOVA, de esta forma se entiende que la resistencia si se ve afectada cuando se maneja una concetracion de PVA  a diferentes ciclos. "
   ]
  },
  {
   "cell_type": "code",
   "execution_count": 26,
   "id": "3fc84226",
   "metadata": {},
   "outputs": [
    {
     "name": "stdout",
     "output_type": "stream",
     "text": [
      "\n",
      " Análisis de normalidad por Shapiro-Wilk para 'Residuos'\n",
      "Estadístico = 0.9248, p-valor = 0.0062\n",
      "Prueba T para una sola muestra para Residuos\n",
      "Estadístico = -0.0000, valor_p = 1.0000\n",
      "Prueba de Runs: p-valor=0.777165884119708\n"
     ]
    },
    {
     "data": {
      "image/png": "[encoded data removed]",
      "text/plain": [
       "<Figure size 640x480 with 1 Axes>"
      ]
     },
     "metadata": {},
     "output_type": "display_data"
    }
   ],
   "source": [
    "df['Residuos']=modelo.resid\n",
    "\n",
    "# normalidad en los residuos \n",
    "\n",
    "test_normalitySW(df['Residuos'],'Residuos')\n",
    "\n",
    "t_test_one(df['Residuos'],0,\"Residuos\")\n",
    "\n",
    "random_test(df['Residuos'])\n",
    "\n",
    "sm.qqplot(df['Residuos'], line='45', fit=True)\n",
    "plt.title(\"QQ-Plot de los Residuos del ANOVA\")\n",
    "plt.show()\n"
   ]
  },
  {
   "cell_type": "markdown",
   "id": "62468d06",
   "metadata": {},
   "source": [
    "En la prueba de normalidad se obtuvo que los residuos son no normales, sin embargo por medio de la grafica se observa \n",
    "Para un modelo de efecto fijos tomamos como refrencia la grafica para analizar la normalidad y para un modelo de muestras aleatorias se debe cumplir al 100% los supuestos dados por las pruebas."
   ]
  },
  {
   "cell_type": "code",
   "execution_count": 30,
   "id": "1af4a109",
   "metadata": {},
   "outputs": [
    {
     "name": "stdout",
     "output_type": "stream",
     "text": [
      "Prueba Tukey para el factor PVA\n",
      " Multiple Comparison of Means - Tukey HSD, FWER=0.05  \n",
      "======================================================\n",
      "group1 group2 meandiff p-adj   lower    upper   reject\n",
      "------------------------------------------------------\n",
      "  10.0   12.5 -38.6459 0.1891 -91.4305  14.1387  False\n",
      "  10.0   15.0  60.7404 0.0208   7.9559  113.525   True\n",
      "  12.5   15.0  99.3863 0.0001  46.6017 152.1709   True\n",
      "------------------------------------------------------\n"
     ]
    }
   ],
   "source": [
    "# Prueba de Tukey para acido \n",
    "tukey(df[\"Resistencia\"], df[\"PVA\"],0.05,\"PVA\")\n",
    "\n"
   ]
  },
  {
   "cell_type": "markdown",
   "id": "ea7dfb6a",
   "metadata": {},
   "source": [
    "Se realiza la prueba de comparaciones multiples para el PVA debido a que tiene un efecto significativo, no se realiza respecto a los PVA-CICLOS porque la prueba se realiza entre niveles de un mismo factor. (Además ciclos no tiene un efecto significativo)"
   ]
  },
  {
   "cell_type": "markdown",
   "id": "2119211a",
   "metadata": {},
   "source": [
    "<h3>Conclusión<h3>"
   ]
  },
  {
   "cell_type": "markdown",
   "id": "b58b17dd",
   "metadata": {},
   "source": []
  }
 ],
 "metadata": {
  "kernelspec": {
   "display_name": "Python 3",
   "language": "python",
   "name": "python3"
  },
  "language_info": {
   "codemirror_mode": {
    "name": "ipython",
    "version": 3
   },
   "file_extension": ".py",
   "mimetype": "text/x-python",
   "name": "python",
   "nbconvert_exporter": "python",
   "pygments_lexer": "ipython3",
   "version": "3.11.4"
  }
 },
 "nbformat": 4,
 "nbformat_minor": 5
}
