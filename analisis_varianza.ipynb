{
 "cells": [
  {
   "cell_type": "markdown",
   "id": "4182c79a",
   "metadata": {},
   "source": [
    "<h1>Analisis de varianza par ala fabricacionde hidrogeles de PVA</h1>"
   ]
  },
  {
   "cell_type": "code",
   "execution_count": 17,
   "id": "9eb42583",
   "metadata": {},
   "outputs": [],
   "source": [
    "import numpy as np\n",
    "import matplotlib.pyplot as plt\n",
    "import pandas as pd\n",
    "import seaborn as sns\n",
    "from scipy import stats \n",
    "from statsmodels.sandbox.stats.runs import runstest_1samp \n",
    "from statsmodels.formula.api import ols \n",
    "import statsmodels.api as sm \n",
    "from tabulate import tabulate\n",
    "from statsmodels.stats.multicomp import pairwise_tukeyhsd\n",
    "from scipy.stats import ttest_ind "
   ]
  },
  {
   "cell_type": "markdown",
   "id": "deec38be",
   "metadata": {},
   "source": [
    "Se definen las funciones necesarias para las pruebas"
   ]
  },
  {
   "cell_type": "code",
   "execution_count": 18,
   "id": "181f95ec",
   "metadata": {},
   "outputs": [],
   "source": [
    "def test_normalitySW(data, variable): # Prueba de Normalizas Shapiro-Wilks \n",
    "    \"\"\"\n",
    "    data: arreglo de datos a evaluar la normalidad\n",
    "    variable: string con el nombre de la variable \n",
    "    \"\"\"\n",
    "    print(f\"\\nAnálisis de normalidad por Shapiro-Wilk para '{variable}'\")\n",
    "    # Shapiro-Wilk test\n",
    "    shapiro_stat, shapiro_p = stats.shapiro(data)\n",
    "    print(f\"Estadístico = {shapiro_stat:.4f}, p-valor = {shapiro_p:.4f}\")\n",
    "\n",
    "def t_test_one(data,mu,variable): #Prueba T para una muestra\n",
    "    \"\"\"\n",
    "    data: arreglo de datos a comparar\n",
    "    mu: media poblacional o valor de referencia \n",
    "    variable: string con el nombre de la variable que se está comparando\n",
    "    \"\"\"\n",
    "    print(f\"Prueba T para una sola muestra para {variable}\")\n",
    "    t_stat, p_value = stats.ttest_1samp(data, mu)\n",
    "    print(f\"Estadístico = {t_stat:.4f}, valor_p = {p_value:.4f}\")\n",
    "\n",
    "def random_test(residuos):\n",
    "    \"\"\"\n",
    "    Parameters\n",
    "    ----------\n",
    "    residuos : Array\n",
    "        DESCRIPTION: Residuos del ANOVA \n",
    "    Returns\n",
    "    -------\n",
    "    None.\n",
    "    \"\"\"\n",
    "    _, p_runs = runstest_1samp(residuos, correction=True)\n",
    "    print(f\"Prueba de Runs: p-valor={p_runs}\")\n",
    "\n",
    "def tukey(respuesta,factor, alfa,n_factor):\n",
    "    \"\"\"\n",
    "    Parameters\n",
    "    ----------\n",
    "    respuesta : Array\n",
    "        DESCRIPTION. Array con los datos de la variable respuesta\n",
    "    factor : Array\n",
    "        DESCRIPTION.Array con los niveles del factor \n",
    "    alfa : Float\n",
    "        DESCRIPTION. Valor alfa de comparación \n",
    "    n_factor : String\n",
    "        DESCRIPTION. Nombre del factor\n",
    "\n",
    "    Returns\n",
    "    -------\n",
    "    None.\n",
    "    \"\"\"    \n",
    "    tukey = pairwise_tukeyhsd(respuesta, factor, alpha=alfa)\n",
    "    print(f\"Prueba Tukey para el factor {n_factor}\")\n",
    "    print(tukey)\n",
    "    "
   ]
  },
  {
   "cell_type": "markdown",
   "id": "2434b547",
   "metadata": {},
   "source": [
    "<h3>Punto 1</h3>"
   ]
  },
  {
   "cell_type": "markdown",
   "id": "6289ad24",
   "metadata": {},
   "source": [
    "Lectura del documento de excel usando pandas para convertirlo en un dataframe mas sencillo de manejar, no requiere rellenar ni trabajar con datos tipo NAN"
   ]
  },
  {
   "cell_type": "code",
   "execution_count": 19,
   "id": "b79c4241",
   "metadata": {},
   "outputs": [],
   "source": [
    "df = pd.read_excel('res max.xlsx')"
   ]
  },
  {
   "cell_type": "markdown",
   "id": "25fc537e",
   "metadata": {},
   "source": [
    "<h3>Punto 2</h3>\n",
    "<h3>Normalidad</h3>"
   ]
  },
  {
   "cell_type": "code",
   "execution_count": 20,
   "id": "517550ac",
   "metadata": {},
   "outputs": [
    {
     "name": "stdout",
     "output_type": "stream",
     "text": [
      "\n",
      "Análisis de normalidad por Shapiro-Wilk para 'Resistencia'\n",
      "Estadístico = 0.9595, p-valor = 0.1165\n"
     ]
    }
   ],
   "source": [
    "test_normalitySW(df['Resistencia'], 'Resistencia')"
   ]
  },
  {
   "cell_type": "markdown",
   "id": "29499a5c",
   "metadata": {},
   "source": [
    "H0: Los datos provienen de una distribucion normal <br>\n",
    "H1: Los datos no provienen de una distribucion normal"
   ]
  },
  {
   "cell_type": "markdown",
   "id": "6e8aeb76",
   "metadata": {},
   "source": [
    "Se realiza la prueba de normalidad Shapiro-Wilks, en donde el valor p obtenido es mayor al valor alfa (0.05), de esta forma se acepta H0 que indica que los valores de resistencia (variable de respuesta) son normales."
   ]
  },
  {
   "cell_type": "markdown",
   "id": "d251b608",
   "metadata": {},
   "source": [
    "<h3>Homocedasticidad</h3>"
   ]
  },
  {
   "cell_type": "code",
   "execution_count": 21,
   "id": "6da1de52",
   "metadata": {},
   "outputs": [
    {
     "name": "stdout",
     "output_type": "stream",
     "text": [
      "Levene test: p-valor = 0.7435\n"
     ]
    }
   ],
   "source": [
    "nivel1=df[df['PVA']==10]['Resistencia']\n",
    "nivel2=df[df['PVA']==12.50]['Resistencia']\n",
    "nivel3=df[df['PVA']==15]['Resistencia']\n",
    "_, levene_p = stats.levene(nivel1,nivel2,nivel3)\n",
    "\n",
    "print(f\"Levene test: p-valor = {levene_p:.4f}\")"
   ]
  },
  {
   "cell_type": "markdown",
   "id": "f8bb049c",
   "metadata": {},
   "source": [
    "H0: Existe igualdad entre las varianzas de los datos (Homocesdasticidad)<br>\n",
    "H1: Existen diferencias entre las varianzas de los datos (Heterocedasticidad)"
   ]
  },
  {
   "cell_type": "markdown",
   "id": "9141014e",
   "metadata": {},
   "source": [
    "Se realiza prueba levene en los niveles de concentracion de PVA, en donde se selecciona los niveles previamente indicados en el experimento (10%,12.5%,15%); los resultados de valor p (0.7435) mayor a alfa (0.05) indican que las varianzas entre valores son iguales por ende hay homocedasticidad entre los niveles para la concentracion de PVA"
   ]
  },
  {
   "cell_type": "code",
   "execution_count": 22,
   "id": "8abac9a3",
   "metadata": {},
   "outputs": [
    {
     "name": "stdout",
     "output_type": "stream",
     "text": [
      "Levene test: p-valor = 0.0607\n"
     ]
    }
   ],
   "source": [
    "nivel4=df[df['CICLOS']==7]['Resistencia']\n",
    "nivel5=df[df['CICLOS']==11]['Resistencia']\n",
    "nivel6=df[df['CICLOS']==15]['Resistencia']\n",
    "_, levene_p = stats.levene(nivel4,nivel5,nivel6)\n",
    "\n",
    "print(f\"Levene test: p-valor = {levene_p:.4f}\")"
   ]
  },
  {
   "cell_type": "markdown",
   "id": "0a8ba76d",
   "metadata": {},
   "source": [
    "Se realiza prueba levene en los niveles de concentracion de PVA, en donde se selecciona los niveles previamente indicados en el experimento (7, 11, 15); los resultados de valor p (0.0607) mayor a alfa (0.05) indican que las varianzas entre valores son iguales por ende hay homocedasticidad entre los niveles para los ciclos de congelamiento"
   ]
  },
  {
   "cell_type": "markdown",
   "id": "a59a25e2",
   "metadata": {},
   "source": [
    "<h3>Independencia</h3>\n",
    "Los datos experimentales son independientes por la forma en la que se realiza el experimento donde la concetracion de PVA no condiciona a los ciclos de congelamiento ni viceversa, por lo tanto, no se requiere una prueba de independencia. Esta misma se estable en la forma de llevar a cabo el experimento."
   ]
  },
  {
   "cell_type": "markdown",
   "id": "2b8777d1",
   "metadata": {},
   "source": [
    "<h3>Transformaciones</h3>\n",
    "No se realizan transformacions debido a la normalidad verificada previamente de los datos para la concentracion de PVA y los ciclos de congelamiento"
   ]
  },
  {
   "cell_type": "markdown",
   "id": "3c0ceb74",
   "metadata": {},
   "source": [
    "<h3>Conclusion</h3>\n",
    "Las pruebas realizadas permiten verificar los siguientes supuestos: <br>\n",
    "- Los datos de la variable de respuesta (Resistencia) siguen una distribución normal. <br>\n",
    "- Existe homocedasticidad entre los datos de los factores. <br>\n",
    "- Los puntos experimentales son independientes entre sí. <br>\n",
    "De esta forma es viable realizar una prueba ANOVA \n",
    "\n"
   ]
  },
  {
   "cell_type": "markdown",
   "id": "b78bd1a9",
   "metadata": {},
   "source": [
    "<h3>Punto 3</h3>\n",
    "<h3>Modelo ANOVA</h3>\n",
    "Se usa la llave 'Resistencia ~ C(PVA)*C(CICLOS)'  para la creación del modelo, donde se consideran como factores la concentración de PVA y los ciclos de congelamiento. Esta fórmula permite incluir tanto los efectos principales como la interacción entre ambos factores, lo que da lugar a un modelo adecuado para el análisis ANOVA."
   ]
  },
  {
   "cell_type": "code",
   "execution_count": 27,
   "id": "d36b7d6e",
   "metadata": {},
   "outputs": [
    {
     "name": "stdout",
     "output_type": "stream",
     "text": [
      "┏━━━━━━━━━━━━━━━━━━┳━━━━━━━━━━┳━━━━━━┳━━━━━━━━━━━┳━━━━━━━━━━━━━━━┓\n",
      "┃                  ┃   sum_sq ┃   df ┃         F ┃        PR(>F) ┃\n",
      "┣━━━━━━━━━━━━━━━━━━╋━━━━━━━━━━╋━━━━━━╋━━━━━━━━━━━╋━━━━━━━━━━━━━━━┫\n",
      "┃ Intercept        ┃ 146604   ┃    1 ┃  51.185   ┃   2.06158e-08 ┃\n",
      "┣━━━━━━━━━━━━━━━━━━╋━━━━━━━━━━╋━━━━━━╋━━━━━━━━━━━╋━━━━━━━━━━━━━━━┫\n",
      "┃ C(PVA)           ┃  57215.5 ┃    2 ┃   9.98802 ┃   0.000354328 ┃\n",
      "┣━━━━━━━━━━━━━━━━━━╋━━━━━━━━━━╋━━━━━━╋━━━━━━━━━━━╋━━━━━━━━━━━━━━━┫\n",
      "┃ C(CICLOS)        ┃  14635.8 ┃    2 ┃   2.55495 ┃   0.0917087   ┃\n",
      "┣━━━━━━━━━━━━━━━━━━╋━━━━━━━━━━╋━━━━━━╋━━━━━━━━━━━╋━━━━━━━━━━━━━━━┫\n",
      "┃ C(PVA):C(CICLOS) ┃  40009.1 ┃    4 ┃   3.49216 ┃   0.0164945   ┃\n",
      "┣━━━━━━━━━━━━━━━━━━╋━━━━━━━━━━╋━━━━━━╋━━━━━━━━━━━╋━━━━━━━━━━━━━━━┫\n",
      "┃ Residual         ┃ 103111   ┃   36 ┃ nan       ┃ nan           ┃\n",
      "┗━━━━━━━━━━━━━━━━━━┻━━━━━━━━━━┻━━━━━━┻━━━━━━━━━━━┻━━━━━━━━━━━━━━━┛\n"
     ]
    }
   ],
   "source": [
    "modelo = ols('Resistencia ~ C(PVA)*C(CICLOS)', data=df).fit()\n",
    "anova_table = sm.stats.anova_lm(modelo, typ=3)\n",
    "print(tabulate(anova_table,headers='keys',tablefmt='heavy_grid'))"
   ]
  },
  {
   "cell_type": "markdown",
   "id": "d51f1fc9",
   "metadata": {},
   "source": [
    "H0: El efecto es igual a cero, es decir no es significativo<br>\n",
    "H1: El efecto es diferente de cero, es decir es significativo"
   ]
  },
  {
   "cell_type": "markdown",
   "id": "c6515272",
   "metadata": {},
   "source": [
    "La variable 'ciclos' no presenta un efecto significativo según el valor p obtenido en la tabla ANOVA (0.091), el cual es mayor al nivel de significancia α = 0.05. En cambio, tanto la concentración de PVA como la interacción entre concentración de PVA y ciclos de congelamiento muestran valores p menores a α (0.0003.. y 0.016.., respectivamente), indicando un efecto significativo. No obstante, no es apropiado eliminar la variable 'ciclos', ya que su interacción con la concentración de PVA sí influye significativamente en la resistencia. Esto sugiere que la resistencia del material se ve afectada por la concentración de PVA en función de los ciclos de congelamiento aplicados en cada nivel de concentracion de PVA. "
   ]
  },
  {
   "cell_type": "markdown",
   "id": "86666f53",
   "metadata": {},
   "source": [
    "<h3>Punto 4</h3>\n",
    "<h3>Residuos del modelo</h3>"
   ]
  },
  {
   "cell_type": "code",
   "execution_count": 28,
   "id": "5178484a",
   "metadata": {},
   "outputs": [],
   "source": [
    "df['Residuos']=modelo.resid"
   ]
  },
  {
   "cell_type": "markdown",
   "id": "c688fa9f",
   "metadata": {},
   "source": [
    "Se crea la columna Residuos en el dataframe para su posterior analisis en el modelo del ANOVA"
   ]
  },
  {
   "cell_type": "markdown",
   "id": "fa25d03f",
   "metadata": {},
   "source": [
    "<h3>Normalidad</h3>"
   ]
  },
  {
   "cell_type": "code",
   "execution_count": null,
   "id": "e8de44ea",
   "metadata": {},
   "outputs": [
    {
     "name": "stdout",
     "output_type": "stream",
     "text": [
      "\n",
      "Análisis de normalidad por Shapiro-Wilk para 'Residuos'\n",
      "Estadístico = 0.9248, p-valor = 0.0062\n"
     ]
    }
   ],
   "source": [
    "test_normalitySW(df['Residuos'],'Residuos')"
   ]
  },
  {
   "cell_type": "markdown",
   "id": "51507d0e",
   "metadata": {},
   "source": [
    "Con la prueba de normalidad aplicada a los residuos, se obtiene un valor p de 0.0062, el cual es menor que el nivel de significancia (α = 0.05). Por lo tanto, se rechaza la hipótesis nula y se acepta la hipótesis alternativa, concluyendo que los residuos no siguen una distribución normal. No obstante, al tratarse de un modelo con efectos fijos, se puede complementar esta verificación mediante inspección gráfica de los residuos."
   ]
  },
  {
   "cell_type": "markdown",
   "id": "fad67d91",
   "metadata": {},
   "source": [
    "<h3>Media 0</h3>"
   ]
  },
  {
   "cell_type": "code",
   "execution_count": 30,
   "id": "b7d62f67",
   "metadata": {},
   "outputs": [
    {
     "name": "stdout",
     "output_type": "stream",
     "text": [
      "Prueba T para una sola muestra para Residuos\n",
      "Estadístico = -0.0000, valor_p = 1.0000\n"
     ]
    }
   ],
   "source": [
    "t_test_one(df['Residuos'],0,\"Residuos\")"
   ]
  },
  {
   "cell_type": "markdown",
   "id": "1520e921",
   "metadata": {},
   "source": [
    "H0: La media de los residuos es igual a 0<br> \n",
    "H1: La media de los residuos es diferente a 0"
   ]
  },
  {
   "cell_type": "markdown",
   "id": "b688de65",
   "metadata": {},
   "source": [
    "Al realizar la prueba t para los residuos, se obtuvo un valor p de 1, el cual es mayor que el nivel de significancia (α = 0.005). Esto permite no rechazar la hipótesis nula (H0), lo que indica que los datos no presentan una media significativamente diferente de 0"
   ]
  },
  {
   "cell_type": "markdown",
   "id": "8d139c61",
   "metadata": {},
   "source": [
    "<h3>Alatoriedad</h3>"
   ]
  },
  {
   "cell_type": "code",
   "execution_count": 31,
   "id": "6e36833d",
   "metadata": {},
   "outputs": [
    {
     "name": "stdout",
     "output_type": "stream",
     "text": [
      "Prueba de Runs: p-valor=0.777165884119708\n"
     ]
    }
   ],
   "source": [
    "random_test(df['Residuos'])"
   ]
  },
  {
   "cell_type": "markdown",
   "id": "1d75d755",
   "metadata": {},
   "source": [
    "H0: La secuencia es aleatoria<br>\n",
    "H1: La secuencia no es aleatoria"
   ]
  },
  {
   "cell_type": "markdown",
   "id": "02649312",
   "metadata": {},
   "source": [
    "El valor p de 0.7771.. obtenido en la prueba de Runs es superior al nivel de significancia (α = 0.005), lo que nos lleva a no rechazar la hipótesis nula (H0). Esto sugiere que los residuos siguen un patrón aleatorio."
   ]
  },
  {
   "cell_type": "markdown",
   "id": "1000e71e",
   "metadata": {},
   "source": [
    "<h3>Grafica</h3>"
   ]
  },
  {
   "cell_type": "code",
   "execution_count": null,
   "id": "3993ad94",
   "metadata": {},
   "outputs": [
    {
     "data": {
      "image/png": "[encoded data removed]",
      "text/plain": [
       "<Figure size 640x480 with 1 Axes>"
      ]
     },
     "metadata": {},
     "output_type": "display_data"
    }
   ],
   "source": [
    "sm.qqplot(df['Residuos'], line='45', fit=True)\n",
    "plt.title(\"QQ-Plot de los Residuos del ANOVA\")\n",
    "plt.show()"
   ]
  },
  {
   "cell_type": "markdown",
   "id": "62468d06",
   "metadata": {},
   "source": [
    "En la prueba de normalidad, se encontró que los residuos no siguen una distribución normal. Sin embargo, al analizar la gráfica correspondiente, se observa que, para un modelo de efecto fijo, los datos parecen ajustarse razonablemente a una distribución normal. Esto se puede evidenciar por la proximidad de los puntos a la línea de referencia (línea roja), lo que sugiere que los datos siguen una distribución aproximadamente normal."
   ]
  },
  {
   "cell_type": "markdown",
   "id": "58c76ea1",
   "metadata": {},
   "source": [
    "<h3>Conclusion</h3>\n",
    "Las pruebas realizadas permiten validar los supuestos necesarios para la aplicación de la prueba ANOVA, a partir del análisis de los residuos: <br>\n",
    "- Los residuos presentan una distribución aproximadamente normal. <br>\n",
    "- La media de los residuos es igual a 0. <br>\n",
    "- Los residuos se distribuyen de forma aleatoria. <br>\n",
    "Por lo tanto, se confirma la validez de la prueba ANOVA aplicada."
   ]
  },
  {
   "cell_type": "markdown",
   "id": "f34fe66c",
   "metadata": {},
   "source": [
    "<h3>Punto 5</h3>"
   ]
  },
  {
   "cell_type": "markdown",
   "id": "79218b1c",
   "metadata": {},
   "source": [
    "<h3>Analisis de comparaciones multiples</h3>"
   ]
  },
  {
   "cell_type": "code",
   "execution_count": null,
   "id": "1af4a109",
   "metadata": {},
   "outputs": [
    {
     "name": "stdout",
     "output_type": "stream",
     "text": [
      "Prueba Tukey para el factor PVA\n",
      " Multiple Comparison of Means - Tukey HSD, FWER=0.05  \n",
      "======================================================\n",
      "group1 group2 meandiff p-adj   lower    upper   reject\n",
      "------------------------------------------------------\n",
      "  10.0   12.5 -38.6459 0.1891 -91.4305  14.1387  False\n",
      "  10.0   15.0  60.7404 0.0208   7.9559  113.525   True\n",
      "  12.5   15.0  99.3863 0.0001  46.6017 152.1709   True\n",
      "------------------------------------------------------\n"
     ]
    }
   ],
   "source": [
    "tukey(df[\"Resistencia\"], df[\"PVA\"],0.05,\"PVA\")"
   ]
  },
  {
   "cell_type": "markdown",
   "id": "ea7dfb6a",
   "metadata": {},
   "source": [
    "Se realizó la prueba de comparaciones múltiples únicamente para la concentración de PVA, ya que este factor mostró un efecto significativo según la prueba ANOVA. No se aplicó la prueba para la interacción PVA-CICLOS, dado que las comparaciones múltiples se realizan entre niveles de un mismo factor. Asimismo, no se efectuó la prueba para los ciclos de congelamiento, ya que no presentaron un efecto significativo en el análisis ANOVA."
   ]
  },
  {
   "cell_type": "markdown",
   "id": "d327c722",
   "metadata": {},
   "source": [
    "H0: μi = μj<br>\n",
    "H1: μi != μj"
   ]
  },
  {
   "cell_type": "markdown",
   "id": "2fe272cf",
   "metadata": {},
   "source": [
    "-Entre 10% y 12.5% de PVA: No hay diferencia significativa en la resistencia (p = 0.1891 > 0.05). <br>\n",
    "-Entre 10% y 15% de PVA: Sí hay una diferencia significativa en la resistencia (p = 0.0208 < 0.05).<br>\n",
    "-Entre 12.5% y 15% de PVA: También se encuentra una diferencia significativa (p = 0.0001 < 0.05).<br>\n",
    "\n",
    "La prueba de comparaciones múltiples de Tukey aplicada al factor concentración de PVA revela diferencias significativas en la resistencia entre los niveles 10%-15% y 12.5%-15%. No se observa diferencia significativa entre los niveles 10% y 12.5%. Esto indica que aumentar la concentración de PVA a 15% tiene un efecto significativo en el incremento de la resistencia del material"
   ]
  },
  {
   "cell_type": "markdown",
   "id": "2119211a",
   "metadata": {},
   "source": [
    "<h3>Punto 6</h3>\n",
    "<h3>Conclusion</h3>"
   ]
  },
  {
   "cell_type": "markdown",
   "id": "b58b17dd",
   "metadata": {},
   "source": [
    "El análisis de varianza (ANOVA) permitió evaluar el efecto del porcentaje de PVA y el número de ciclos de congelamiento sobre la resistencia máxima de hidrogeles al 100% de elongación. Tras verificar los supuestos del modelo (normalidad, homocedasticidad e independencia de los residuos), se ajustó un modelo con interacción entre los factores. El análisis reveló que: <br><br>\n",
    "-El porcentaje de PVA tiene un efecto significativo sobre la resistencia máxima.<br>\n",
    "-En particular, concentraciones más altas de PVA (15%) incrementan significativamente la resistencia en comparación con niveles más bajos (10% y 12.5%).<br>\n",
    "-El número de ciclos de congelamiento, por sí solo, no mostró un efecto significativo de forma individual (p = 0.091).<br>\n",
    "-Sin embargo, la interacción entre la concentración de PVA y los ciclos de congelamiento sí es significativa, lo cual indica que el efecto de un factor depende del nivel del otro.<br><br>\n",
    "Esto sugiere que no se puede optimizar la resistencia del hidrogel considerando cada factor por separado: la combinación específica de concentración y número de ciclos es clave para obtener mejores propiedades mecánicas.<br><br>\n",
    "Esto implica que el diseño de hidrogeles con alta resistencia mecánica debe considerar no solo el aumento en la concentración de PVA, sino también la cantidad de ciclos de congelamiento, ya que su efecto combinado puede optimizar las propiedades mecánicas del material<br><br>\n",
    "En conclusión, la concentración de PVA es determinante para la resistencia del hidrogel, y su efecto se ve modificado por el número de ciclos de congelamiento. Esta interacción debe considerarse cuidadosamente en el diseño y fabricación de hidrogeles para aplicaciones en bioingenieria. "
   ]
  }
 ],
 "metadata": {
  "kernelspec": {
   "display_name": "base",
   "language": "python",
   "name": "python3"
  },
  "language_info": {
   "codemirror_mode": {
    "name": "ipython",
    "version": 3
   },
   "file_extension": ".py",
   "mimetype": "text/x-python",
   "name": "python",
   "nbconvert_exporter": "python",
   "pygments_lexer": "ipython3",
   "version": "3.12.7"
  }
 },
 "nbformat": 4,
 "nbformat_minor": 5
}
