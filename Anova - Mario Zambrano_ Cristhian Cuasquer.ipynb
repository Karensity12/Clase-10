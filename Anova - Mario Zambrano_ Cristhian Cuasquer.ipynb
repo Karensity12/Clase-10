{
 "cells": [
  {
   "cell_type": "markdown",
   "id": "c8ad7e75",
   "metadata": {},
   "source": [
    "\n",
    "## Análisis de Varianza (ANOVA) para Hidrogeles de PVA\n",
    " **Contexto**: Analizar el efecto de la concentración de PVA y ciclos de congelamiento en la resistencia máxima."
   ]
  },
  {
   "cell_type": "markdown",
   "id": "a30a2391",
   "metadata": {},
   "source": [
    "## Carga de funciones para el analisis estadistico"
   ]
  },
  {
   "cell_type": "code",
   "execution_count": 21,
   "id": "c001e9c0",
   "metadata": {},
   "outputs": [],
   "source": [
    "import numpy as np\n",
    "import matplotlib.pyplot as plt\n",
    "import pandas as pd\n",
    "from scipy import stats \n",
    "from statsmodels.sandbox.stats.runs import runstest_1samp # para la prueba Runs \n",
    "from statsmodels.formula.api import ols #modelo lineal del ANOVA\n",
    "import statsmodels.api as sm \n",
    "from tabulate import tabulate\n",
    "from statsmodels.stats.multicomp import pairwise_tukeyhsd\n",
    "\n",
    "def test_normalityKS(data, variable): # Pruaba de Normalidad Kolmogorov-Smirnof \n",
    "    \"\"\"\n",
    "    data: arreglo de datos a evaluar la normalidad\n",
    "    variable: string con el nombre de la variable \n",
    "    \"\"\"  \n",
    "    print(f\"\\n Análisis de normalidad por Kolmogorov-Smirnov para '{variable}'\")\n",
    "\n",
    "    # Kolmogorov-Smirnov (KS) test\n",
    "    ks_stat, ks_p = stats.kstest(data, 'norm', args=(np.mean(data), np.std(data)))\n",
    "    print(f\" Estadístico = {ks_stat:.4f}, p-valor = {ks_p:.4f}\")\n",
    "\n",
    "def test_normalitySW(data, variable): # Prueba de Normalizas Shapiro-Wilks \n",
    "    \"\"\"\n",
    "    data: arreglo de datos a evaluar la normalidad\n",
    "    variable: string con el nombre de la variable \n",
    "    \"\"\"\n",
    "    print(f\"\\n Análisis de normalidad por Shapiro-Wilk para '{variable}'\")\n",
    "    # Shapiro-Wilk test\n",
    "    shapiro_stat, shapiro_p = stats.shapiro(data)\n",
    "    print(f\"Estadístico = {shapiro_stat:.4f}, p-valor = {shapiro_p:.4f}\")\n",
    "    \n",
    "def random_test(residuos):\n",
    "    \"\"\"\n",
    "    Parameters\n",
    "    ----------\n",
    "    residuos : Array\n",
    "        DESCRIPTION: Residuos del ANOVA \n",
    "\n",
    "    Returns\n",
    "    -------\n",
    "    None.\n",
    "\n",
    "    \"\"\"\n",
    "    _, p_runs = runstest_1samp(residuos, correction=True)\n",
    "\n",
    "    print(f\"Prueba de Runs: p-valor={p_runs}\")\n",
    "    \n",
    "def test_homogeneityL(var1, var2, name1, name2): # Prueba de levene\n",
    "    \"\"\"\n",
    "    var1 y var2: variables a las que se corroborará homocedasticidad \n",
    "    name1 y name2: strings con el nnombre de las variables\n",
    "    \"\"\"\n",
    "    print(f\"\\n Análisis de homocedasticidad entre '{name1}' y '{name2}'\")\n",
    "\n",
    "    # Prueba de Levene (no asume normalidad)\n",
    "    levene_stat, levene_p = stats.levene(var1, var2)\n",
    "    print(f\"Levene test: Estadístico = {levene_stat:.4f}, p-valor = {levene_p:.4f}\")\n",
    "\n",
    "def t_test_one(data,mu,variable): #Prueba T para una muestra\n",
    "    \"\"\"\n",
    "    data: arreglo de datos a comparar\n",
    "    mu: media poblacional o valor de referencia \n",
    "    variable: string con el nombre de la variable que se está comparando\n",
    "    \"\"\"\n",
    "    print(f\"Prueba T para una sola muestra para {variable}\")\n",
    "    t_stat, p_value = stats.ttest_1samp(data, mu)\n",
    "    print(f\"Estadístico = {t_stat:.4f}, valor_p = {p_value:.4f}\")\n",
    "    \n",
    "def box_cox(data): #transformación depotencia   \n",
    "\n",
    "    transformed_data, lambda_opt = stats.boxcox(data)\n",
    "    return transformed_data, lambda_opt\n",
    "\n",
    "def tukey(respuesta,factor, alfa,n_factor):\n",
    "    \"\"\"\n",
    "\n",
    "    Parameters\n",
    "    ----------\n",
    "    respuesta : Array\n",
    "        DESCRIPTION. Array con los datos de la variable respuesta\n",
    "    factor : Array\n",
    "        DESCRIPTION.Array con los niveles del factor \n",
    "    alfa : Float\n",
    "        DESCRIPTION. Valor alfa de comparación \n",
    "    n_factor : String\n",
    "        DESCRIPTION. Nombre del factor\n",
    "\n",
    "    Returns\n",
    "    -------\n",
    "    None.\n",
    "\n",
    "    \"\"\"\n",
    "    \n",
    "    tukey = pairwise_tukeyhsd(respuesta, factor, alpha=alfa)\n",
    "    print(f\"Prueba Tukey para el factor {n_factor}\")\n",
    "    print(tukey)\n",
    "    \n",
    "def kruskal_W(df,Respuesta,Factor):\n",
    "    \"\"\"\n",
    "    \n",
    "    Parameters\n",
    "    ----------\n",
    "    df : Data_Frame\n",
    "        DESCRIPTION. estructura con los datos del experimento\n",
    "    Respuesta : String\n",
    "        DESCRIPTION. nombre de la variable respuesta, key del dataframe\n",
    "    Factor : String\n",
    "        DESCRIPTION. nombre del factor, key del dataframe\n",
    "\n",
    "    Returns\n",
    "    -------\n",
    "    None.\n",
    "\n",
    "    \"\"\"\n",
    "    grupos_B = [df[Respuesta][df[Factor] == nivel] for nivel in df[Factor].unique()]\n",
    "    stat_B, p_B = stats.kruskal(*grupos_B)\n",
    "    print(f\"Kruskal-Wallis para {Factor}: H = {stat_B:.4f}, p = {p_B:.4f}\")\n",
    "    \n",
    "    \n",
    "def kruskal_interaccion(df,Respuesta,Factor1,Factor2):\n",
    "    \"\"\"\n",
    "    \n",
    "\n",
    "    Parameters\n",
    "    ----------\n",
    "    df : Data_Frame\n",
    "        DESCRIPTION. estructura con los datos del experimento\n",
    "    Respuesta : String\n",
    "        DESCRIPTION. nombre de la variable respuesta, key del dataframe\n",
    "    Factor1 : String\n",
    "        DESCRIPTION. nombre del factor1, key del dataframe\n",
    "    Factor2 : String\n",
    "        DESCRIPTION.nombre del factor12, key del dataframe\n",
    "\n",
    "    Returns\n",
    "    -------\n",
    "    None.\n",
    "\n",
    "    \"\"\"\n",
    "    \n",
    "    df['interaccion'] = df[Factor1].astype(str) + \"_\" + df[Factor2].astype(str) # se genera una columana con las combinaciones entre factores\n",
    "\n",
    "    grupos_interaccion = [df[Respuesta][df['interaccion'] == nivel] for nivel in df['interaccion'].unique()]\n",
    "    stat_int, p_int = stats.kruskal(*grupos_interaccion)\n",
    "    print(f\"Kruskal-Wallis para la interacción {Factor1}x{Factor2} p = {p_int:.4f}\")"
   ]
  },
  {
   "cell_type": "markdown",
   "id": "47b96127",
   "metadata": {},
   "source": [
    "## 1. Carga de Datos \n",
    "Carga de datos de documento de excel \"res max.xlsx\"."
   ]
  },
  {
   "cell_type": "code",
   "execution_count": 22,
   "id": "10787f05",
   "metadata": {},
   "outputs": [
    {
     "name": "stdout",
     "output_type": "stream",
     "text": [
      "\n",
      "Primeras 5 filas:\n",
      "+-------+--------+-------------+\n",
      "|  PVA  | CICLOS | Resistencia |\n",
      "+-------+--------+-------------+\n",
      "| 10.0% |   7    | 196.128546  |\n",
      "| 10.0% |   7    | 179.492496  |\n",
      "| 10.0% |   7    |  188.54304  |\n",
      "| 10.0% |   7    | 166.561972  |\n",
      "| 10.0% |   7    | 125.441099  |\n",
      "+-------+--------+-------------+\n"
     ]
    }
   ],
   "source": [
    "\n",
    "df = pd.read_excel('res max.xlsx', sheet_name='Hoja1')\n",
    "df.columns = ['PVA', 'CICLOS', 'Resistencia']  # Renombrar columnas\n",
    "\n",
    "# Convertir a categorías\n",
    "df['PVA'] = df['PVA'].astype(str) + '%'\n",
    "df['CICLOS'] = df['CICLOS'].astype('category')\n",
    "\n",
    "print(\"\\nPrimeras 5 filas:\")\n",
    "print(tabulate(df.head(), headers='keys', tablefmt='pretty', showindex=False))\n"
   ]
  },
  {
   "cell_type": "markdown",
   "id": "814c3c4d",
   "metadata": {},
   "source": [
    "## 2. Verificación de Supuestos \n",
    " Normalidad, Homocedasticidad e Independencia"
   ]
  },
  {
   "cell_type": "code",
   "execution_count": 23,
   "id": "63fa6f0c",
   "metadata": {},
   "outputs": [
    {
     "name": "stdout",
     "output_type": "stream",
     "text": [
      "\n",
      " Análisis de normalidad por Shapiro-Wilk para 'Resistencia'\n",
      "Estadístico = 0.9595, p-valor = 0.1165\n",
      "\n",
      " Análisis de homocedasticidad entre '10.0%' y '12.5%'\n",
      "Levene test: Estadístico = 0.4015, p-valor = 0.5314\n",
      "\n",
      " Análisis de homocedasticidad entre '10.0%' y '15.0%'\n",
      "Levene test: Estadístico = 0.0240, p-valor = 0.8781\n",
      "\n",
      " Análisis de homocedasticidad entre '12.5%' y '15.0%'\n",
      "Levene test: Estadístico = 0.5703, p-valor = 0.4564\n",
      "Levene test: p-valor = 0.7435\n"
     ]
    }
   ],
   "source": [
    "test_normalitySW(df['Resistencia'], 'Resistencia')\n",
    "\n",
    "grupos_pva = [df[df['PVA'] == pva]['Resistencia'] for pva in df['PVA'].unique()]\n",
    "for i in range(len(grupos_pva)):\n",
    "    for j in range(i+1, len(grupos_pva)):\n",
    "        test_homogeneityL(grupos_pva[i], grupos_pva[j], df['PVA'].unique()[i], df['PVA'].unique()[j])\n",
    "\n",
    "nivel1=(df[df['PVA']==\"10.0%\"]['Resistencia'])\n",
    "nivel2=(df[df['PVA']==\"12.5%\"]['Resistencia'])\n",
    "nivel3=(df[df['PVA']==\"15.0%\"]['Resistencia'])\n",
    "\n",
    "_, levene_p = stats.levene(nivel1,nivel2,nivel3)\n",
    "print(f\"Levene test: p-valor = {levene_p:.4f}\")\n"
   ]
  },
  {
   "cell_type": "markdown",
   "id": "a9456631",
   "metadata": {},
   "source": [
    "## Interpretacion:\n",
    " El valor p resultante de la prueba de Levene es 0.7435. Esto indica que no hay evidencia suficiente para rechazar la hipótesis nula de homogeneidad de varianzas entre los niveles especificados (nivel1, nivel2 y nivel3). En otras palabras, las varianzas de los tres niveles son estadísticamente iguales, lo que cumple con el supuesto de homocedasticidad necesario para realizar un ANOVA."
   ]
  },
  {
   "cell_type": "markdown",
   "id": "95045737",
   "metadata": {},
   "source": [
    "## 3. Modelo ANOVA y Simplificación \n",
    "Tabla ANOVA y eliminación de efectos no significativos."
   ]
  },
  {
   "cell_type": "code",
   "execution_count": 24,
   "id": "beb173bb",
   "metadata": {},
   "outputs": [
    {
     "name": "stdout",
     "output_type": "stream",
     "text": [
      "\n",
      "Tabla ANOVA Completa:\n",
      "+------------------+-------------+------+--------+--------+\n",
      "|                  |   sum_sq    |  df  |   F    | PR(>F) |\n",
      "+------------------+-------------+------+--------+--------+\n",
      "|    Intercept     | 146604.4388 | 1.0  | 51.185 |  0.0   |\n",
      "|      C(PVA)      | 57215.5135  | 2.0  | 9.988  | 0.0004 |\n",
      "|    C(CICLOS)     | 14635.7906  | 2.0  | 2.5549 | 0.0917 |\n",
      "| C(PVA):C(CICLOS) | 40009.1008  | 4.0  | 3.4922 | 0.0165 |\n",
      "|     Residual     | 103111.4151 | 36.0 |  nan   |  nan   |\n",
      "+------------------+-------------+------+--------+--------+\n"
     ]
    }
   ],
   "source": [
    "# Tabla ANOVA inicial\n",
    "modelo = ols('Resistencia ~ C(PVA) * C(CICLOS)', data=df).fit()\n",
    "anova_tabla = sm.stats.anova_lm(modelo, typ=3)\n",
    "anova_tabla = anova_tabla.round(4)\n",
    "print(\"\\nTabla ANOVA Completa:\")\n",
    "print(tabulate(anova_tabla, headers='keys', tablefmt='pretty'))"
   ]
  },
  {
   "cell_type": "markdown",
   "id": "653a7a7f",
   "metadata": {},
   "source": [
    "## Interpretacion:\n",
    " Teniendo presente los valores p obtenidos para los ciclos, PVA y la interaccion entre PVA y ciclos podemos definir que los ciclos por si solos no son significativos al tener un valor p mayor a 0.05 lo que indica que rechaza H1, PVA es un factor significativo al definir un valor p menor a 0.05 indicando que influye en la resistencia final del material, al final tenemos que la interaccion entre estos 2 factores (Ciclos y PVA) llega a ser significativa por lo que afecta la resistencia final del material, con esto definimos que el PVA seria el unico factor realmente significativo a la hora de definir la resistencia final del material."
   ]
  },
  {
   "cell_type": "markdown",
   "id": "581883f5",
   "metadata": {},
   "source": [
    "## 4. Verificación de Residuos del Modelo Final "
   ]
  },
  {
   "cell_type": "code",
   "execution_count": 25,
   "id": "05386176",
   "metadata": {},
   "outputs": [
    {
     "data": {
      "image/png": "[encoded data removed]",
      "text/plain": [
       "<Figure size 640x480 with 1 Axes>"
      ]
     },
     "metadata": {},
     "output_type": "display_data"
    },
    {
     "name": "stdout",
     "output_type": "stream",
     "text": [
      "Prueba de Runs: p-valor=0.777165884119708\n"
     ]
    }
   ],
   "source": [
    "# Gráficos de residuos\n",
    "sm.qqplot(modelo.resid, line='s')\n",
    "plt.title('Gráfico Q-Q de Residuos')\n",
    "plt.tight_layout()\n",
    "plt.show()\n",
    "\n",
    "random_test(modelo.resid)\n"
   ]
  },
  {
   "cell_type": "markdown",
   "id": "cbb073ea",
   "metadata": {},
   "source": [
    "## Interpretacion:\n",
    " Del grafico Q-Q y del valor p de aleatoriedad podemos asegurar que los residuos son suficientemente normales acorde a la grafica mientras que tambien con el valor p de aleatoriedad definimos que son residuos aletorios al rechazar el supuesto H1 con esto podemos definir que su efecto no sera significativo para la ANOVA"
   ]
  },
  {
   "cell_type": "markdown",
   "id": "01538147",
   "metadata": {},
   "source": [
    "## 5. Comparaciones Múltiples \n",
    "Test de Tukey para factores significativos."
   ]
  },
  {
   "cell_type": "code",
   "execution_count": 26,
   "id": "302d39af",
   "metadata": {},
   "outputs": [
    {
     "name": "stdout",
     "output_type": "stream",
     "text": [
      "Prueba Tukey para el factor PVA\n",
      " Multiple Comparison of Means - Tukey HSD, FWER=0.05  \n",
      "======================================================\n",
      "group1 group2 meandiff p-adj   lower    upper   reject\n",
      "------------------------------------------------------\n",
      " 10.0%  12.5% -38.6459 0.1891 -91.4305  14.1387  False\n",
      " 10.0%  15.0%  60.7404 0.0208   7.9559  113.525   True\n",
      " 12.5%  15.0%  99.3863 0.0001  46.6017 152.1709   True\n",
      "------------------------------------------------------\n"
     ]
    }
   ],
   "source": [
    "tukey(df['Resistencia'], df['PVA'], 0.05 , n_factor='PVA')"
   ]
  },
  {
   "cell_type": "markdown",
   "id": "2615a932",
   "metadata": {},
   "source": [
    "## Interpretacion:\n",
    " Con la prueba de tukey definimos si se define una diferencia significativa entre los varios niveles de el factor significante (PVA) con lo cual se concluye que los valores 10% y 12.5% no definen una diferencia significativa en la resitencia del material, contrario al valor de 15% el cual demuestra una diferencia sifnificativa al tener un valor p menos a 0.5."
   ]
  },
  {
   "cell_type": "markdown",
   "id": "3035cdf2",
   "metadata": {},
   "source": [
    "## 6. Conclusión\n",
    "- El unico factor significativo para la resistencia del material es PVA (p < 0.05).\n",
    "- La interaccion entre PVA y Ciclo demostro ser significante indicando que al usarlos en conjunto se puede aumentar la resistencia del material pero los ciclos por si solos no tienen un impacto significativo (p > 0.05).\n",
    "- La resistencia aumenta con mayor concentración de PVA.\n",
    "- En PVA el unico nivel que llega a tener una diferencia significativa entre los 3 suministrados es 15%, teniendo que entre 10% y 12.5% no se contemplo una diferencia significativa."
   ]
  }
 ],
 "metadata": {
  "kernelspec": {
   "display_name": "base",
   "language": "python",
   "name": "python3"
  },
  "language_info": {
   "codemirror_mode": {
    "name": "ipython",
    "version": 3
   },
   "file_extension": ".py",
   "mimetype": "text/x-python",
   "name": "python",
   "nbconvert_exporter": "python",
   "pygments_lexer": "ipython3",
   "version": "3.12.7"
  }
 },
 "nbformat": 4,
 "nbformat_minor": 5
}
