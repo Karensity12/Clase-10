{
 "cells": [
  {
   "cell_type": "code",
   "execution_count": 1,
   "id": "a76d635f",
   "metadata": {},
   "outputs": [],
   "source": [
    "import numpy as np\n",
    "import matplotlib.pyplot as plt\n",
    "import pandas as pd\n",
    "import seaborn as sns\n",
    "from scipy import stats \n",
    "from statsmodels.sandbox.stats.runs import runstest_1samp # para la prueba Runs \n",
    "from statsmodels.formula.api import ols #modelo lineal del ANOVA\n",
    "import statsmodels.api as sm \n",
    "from tabulate import tabulate\n",
    "from statsmodels.stats.multicomp import pairwise_tukeyhsd\n",
    "from scipy.stats import ttest_ind #prueba t para dos muestras independientes \n",
    "\n"
   ]
  },
  {
   "cell_type": "code",
   "execution_count": 12,
   "id": "a9267c94",
   "metadata": {},
   "outputs": [],
   "source": [
    "df = pd.read_excel('visceral_fat.xlsx')\n",
    "df1 = df[df['pregnancies (number)'] ==1]\n",
    "df2 = df[df['pregnancies (number)'] != 1]\n"
   ]
  }
 ],
 "metadata": {
  "kernelspec": {
   "display_name": "Python 3",
   "language": "python",
   "name": "python3"
  },
  "language_info": {
   "codemirror_mode": {
    "name": "ipython",
    "version": 3
   },
   "file_extension": ".py",
   "mimetype": "text/x-python",
   "name": "python",
   "nbconvert_exporter": "python",
   "pygments_lexer": "ipython3",
   "version": "3.11.4"
  }
 },
 "nbformat": 4,
 "nbformat_minor": 5
}
